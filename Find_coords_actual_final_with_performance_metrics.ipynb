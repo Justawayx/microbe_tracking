{
  "nbformat": 4,
  "nbformat_minor": 0,
  "metadata": {
    "colab": {
      "name": "Find_coords_actual_final_with_performance_metrics.ipynb",
      "provenance": [],
      "collapsed_sections": [],
      "machine_shape": "hm",
      "include_colab_link": true
    },
    "kernelspec": {
      "name": "python3",
      "display_name": "Python 3"
    },
    "accelerator": "GPU"
  },
  "cells": [
    {
      "cell_type": "markdown",
      "metadata": {
        "id": "view-in-github",
        "colab_type": "text"
      },
      "source": [
        "<a href=\"https://colab.research.google.com/github/Justawayx/microbe_tracking/blob/master/Find_coords_actual_final_with_performance_metrics.ipynb\" target=\"_parent\"><img src=\"https://colab.research.google.com/assets/colab-badge.svg\" alt=\"Open In Colab\"/></a>"
      ]
    },
    {
      "cell_type": "code",
      "metadata": {
        "id": "M94oALDsXsmu",
        "colab_type": "code",
        "colab": {
          "base_uri": "https://localhost:8080/",
          "height": 124
        },
        "outputId": "9eab5606-29d0-42e5-a4a7-05eb6e4c09a8"
      },
      "source": [
        "from google.colab import drive\n",
        "drive.mount('/content/drive')"
      ],
      "execution_count": null,
      "outputs": [
        {
          "output_type": "stream",
          "text": [
            "Go to this URL in a browser: https://accounts.google.com/o/oauth2/auth?client_id=947318989803-6bn6qk8qdgf4n4g3pfee6491hc0brc4i.apps.googleusercontent.com&redirect_uri=urn%3aietf%3awg%3aoauth%3a2.0%3aoob&response_type=code&scope=email%20https%3a%2f%2fwww.googleapis.com%2fauth%2fdocs.test%20https%3a%2f%2fwww.googleapis.com%2fauth%2fdrive%20https%3a%2f%2fwww.googleapis.com%2fauth%2fdrive.photos.readonly%20https%3a%2f%2fwww.googleapis.com%2fauth%2fpeopleapi.readonly\n",
            "\n",
            "Enter your authorization code:\n",
            "··········\n",
            "Mounted at /content/drive\n"
          ],
          "name": "stdout"
        }
      ]
    },
    {
      "cell_type": "code",
      "metadata": {
        "id": "jo0gRcVNYmfd",
        "colab_type": "code",
        "colab": {
          "base_uri": "https://localhost:8080/",
          "height": 34
        },
        "outputId": "f3e4f0a4-fa5c-42a2-ace0-9af2fd006d51"
      },
      "source": [
        "cd /content/drive/My\\ Drive/image_segmentation/Data"
      ],
      "execution_count": null,
      "outputs": [
        {
          "output_type": "stream",
          "text": [
            "/content/drive/.shortcut-targets-by-id/1oL1IKgNdUkjyUG9U8GsIIiZwuLk7-0r1/image_segmentation/Data\n"
          ],
          "name": "stdout"
        }
      ]
    },
    {
      "cell_type": "code",
      "metadata": {
        "id": "BTMxc6Jjalsn",
        "colab_type": "code",
        "colab": {}
      },
      "source": [
        "import tensorflow as tf\n",
        "from tensorflow.keras import backend as K\n",
        "import numpy as np\n",
        "import os, sys, math, cv2, glob, scipy, random as rand\n",
        "from PIL import Image\n",
        "from matplotlib import pyplot as plt\n",
        "from skimage import filters\n",
        "from skimage.color import rgb2gray\n",
        "from skimage.transform import rotate\n",
        "from scipy import ndimage, signal\n",
        "from sklearn.model_selection import train_test_split\n",
        "\n",
        "tf.compat.v1.disable_eager_execution()"
      ],
      "execution_count": null,
      "outputs": []
    },
    {
      "cell_type": "code",
      "metadata": {
        "id": "Xy4qLYunamB3",
        "colab_type": "code",
        "colab": {}
      },
      "source": [
        "# ====================================\n",
        "# Define preprocessing functions\n",
        "# ====================================\n",
        "\n",
        "def normalize_intensity(img):\n",
        "  # Intensity normalization (linear)\n",
        "  normMax, normMin = 1.0, 0.0\n",
        "  normRange = normMax - normMin\n",
        "  imgMax, imgMin = img.max(), img.min()\n",
        "  imgRange = imgMax - imgMin\n",
        "  img_norm = (img - imgMin) * (normRange/imgRange) + normMin\n",
        "  return img_norm\n",
        "\n",
        "def Gaussian(size,sigma):\n",
        "    yi, xi = np.mgrid[0:size, 0:size] - np.floor(size/2) # Assumes odd size\n",
        "    G = (1/(2*np.pi*(sigma**2)))*np.e**(-1*((xi**2)+(yi**2))/(2*(sigma**2)))\n",
        "    return G\n",
        "\n",
        "def preprocess(img):\n",
        "    img_8u = np.uint8(img*255) # Range 0-255\n",
        "    img_gray = cv2.cvtColor(img_8u, cv2.COLOR_BGR2GRAY) # Convert to grayscale\n",
        "    img_f1 = cv2.fastNlMeansDenoising(img_gray, None, h=12) # Denoise\n",
        "    img_f2 = signal.convolve2d(img_f1, Gaussian(9, 2), mode='same') # Gaussian filter\n",
        "    img_f3 = cv2.Laplacian(img_f2, cv2.CV_8U, ksize=5) # Laplacian filter\n",
        "    # th_otsu = filters.threshold_otsu(img_f3) # Otsu threshold for background\n",
        "    # img_f3[img_f3 <= th_otsu] = 0\n",
        "\n",
        "    return img_f3\n",
        "\n",
        "def get_images(img_dir):\n",
        "    data_path = os.path.join(img_dir,'*g')\n",
        "    files = sorted(glob.glob(data_path))\n",
        "    imgs = [cv2.imread(file) for file in files]\n",
        "    return np.array(imgs)\n",
        "\n",
        "def develop_features_v2(img_dir, num_frames):\n",
        "    data_path = os.path.join(img_dir,'*g')\n",
        "    files = sorted(glob.glob(data_path))\n",
        "    \n",
        "    imgs_processed = []\n",
        "    progress = 0\n",
        "    for file in files:\n",
        "        img = cv2.imread(file)\n",
        "        img_norm = normalize_intensity(img)\n",
        "        imgs_processed.append(preprocess(img_norm))\n",
        "        progress += 1\n",
        "        if progress % 10 == 0:\n",
        "            print(\"Done processing %s images\\r\" % progress)\n",
        "        if progress == num_frames:\n",
        "            break\n",
        "\n",
        "    \n",
        "    imgs_processed = np.array(imgs_processed)\n",
        "    m, n, o = imgs_processed.shape\n",
        "    return np.reshape(imgs_processed, (m,n,o,1))\n",
        "\n",
        "# centroid_locs, ploc should be numpy arrays\n",
        "def min_edist_to_centroid(centroid_locs, ploc):\n",
        "    ploc = ploc.reshape(1,2)\n",
        "    diffs = scipy.spatial.distance.cdist(ploc,centroid_locs)\n",
        "    return diffs.min()\n",
        "\n",
        "def centroids_to_pmap(img_shape, centroid_locs):\n",
        "    h = img_shape[0]\n",
        "    w = img_shape[1]\n",
        "    frame = np.zeros(img_shape)\n",
        "\n",
        "    for index in np.ndindex(h,w):\n",
        "        x, y = index\n",
        "        frame[y, x] = math.exp(-1/50 * min_edist_to_centroid(centroid_locs, np.array(index)))\n",
        "    return frame\n",
        "\n",
        "def get_predeveloped_labels(folder_path = 'centroidPMaps/'):\n",
        "    files = sorted([f for f in os.listdir(folder_path)])\n",
        "    frames = list()\n",
        "    for file in files:\n",
        "      img = cv2.imread(folder_path + file)\n",
        "      img_8u = np.uint8(img*255) # Range 0-255\n",
        "      img_gray = cv2.cvtColor(img_8u, cv2.COLOR_BGR2GRAY) # Convert to grayscale\n",
        "      frames.append(img_gray)    \n",
        "    frames = np.array(frames)\n",
        "    m,n,o = frames.shape\n",
        "    return np.reshape(frames, (m,n,o,1))\n",
        "\n",
        "def develop_labels(folder_path, img_shape):\n",
        "    files = sorted([f for f in os.listdir(folder_path)])\n",
        "    frames = list()\n",
        "    \n",
        "    progress = 0\n",
        "    for file in files:\n",
        "        frame = list()\n",
        "        with open(folder_path + '/' + file, 'r') as f:\n",
        "            cur_max = 0\n",
        "            for line in f:\n",
        "                x, y = line.split()\n",
        "                frame.append((int(x), int(y)))\n",
        "                cur_max += 1\n",
        "\n",
        "            frame = np.array(frame)\n",
        "            frames.append(centroids_to_pmap(img_shape, frame))\n",
        "        progress += 1\n",
        "        print(\"Done processing %s images\\r\" % progress)\n",
        "\n",
        "    frames = np.array(frames)\n",
        "    m,n,o = frames.shape\n",
        "\n",
        "    return np.reshape(frames, (m,n,o,1))\n",
        "\n",
        "def get_centroids(folder_path):\n",
        "    files = sorted([f for f in os.listdir(folder_path)])\n",
        "    frames = list()\n",
        "    for file in files:\n",
        "        frame = list()\n",
        "        with open(folder_path + '/' + file, 'r') as f:\n",
        "            for line in f:\n",
        "                x, y = line.split()\n",
        "                frame.append((int(x), int(y)))\n",
        "            frame = np.array(frame)\n",
        "            frames.append(frame)\n",
        "    frames = np.array(frames)\n",
        "    return frames\n",
        "\n",
        "def get_centroid_counts(centroids = None):\n",
        "  if centroids == None:\n",
        "    centroids = get_centroids('newCentroids/')\n",
        "  counts = []\n",
        "  for centroid_set in centroids:\n",
        "    counts.append(len(centroid_set))\n",
        "  return counts\n",
        "\n",
        "def develop_heatmap_labels(folder_path):\n",
        "    files = sorted([f for f in os.listdir(folder_path)])\n",
        "    num_maps = len(files)\n",
        "\n",
        "    heat_maps = np.zeros((num_maps, 1024, 1024))\n",
        "    mesh_grid = np.array(np.meshgrid([range(1024)],[range(1024)]), dtype='float32')\n",
        "    mesh_grid = np.tile(np.reshape(mesh_grid, (1, 2, 1024, 1024)), (128,1,1,1))\n",
        "    i = 0\n",
        "    for file in files:\n",
        "        with open(folder_path + '/' + file, 'r') as f:\n",
        "            cur_max = 0\n",
        "            labels = list()\n",
        "            for line in f:\n",
        "                x, y = line.split()\n",
        "                labels.append((int(x), int(y)))\n",
        "                cur_max += 1\n",
        "\n",
        "            labels = np.pad(np.array(labels, dtype='float32'), ((0,128 - cur_max),(0,0)), mode='constant', constant_values=0)\n",
        "            labels = np.reshape(labels, (128, 2, 1, 1))\n",
        "            heat_maps[i,:,:] = np.exp(-1/50 * (np.min(np.sqrt(np.sum(np.square(mesh_grid - labels), axis=1)), axis=0)))\n",
        "            i += 1\n",
        "\n",
        "            if i % 10 == 0:\n",
        "                print('Finished processing %s heatmaps.' % i)\n",
        "    return heat_maps\n",
        "\n",
        "def develop_random_heatmap_labels(num_maps):\n",
        "\n",
        "    labels = np.random.randint(1024, size=(num_maps,128, 2, 1, 1)).astype('float32')\n",
        "    heat_maps = np.zeros((num_maps, 1024, 1024))\n",
        "    mesh_grid = np.array(np.meshgrid([range(1024)],[range(1024)]), dtype='float32')\n",
        "    mesh_grid = np.tile(np.reshape(mesh_grid, (1, 2, 1024, 1024)), (128,1,1,1))\n",
        "\n",
        "\n",
        "    for i in range(num_maps):\n",
        "        print(i)\n",
        "        num_zero_centroids = rand.randint(0, 128)\n",
        "        labels[i,127-num_zero_centroids:128,:,:,:] = np.zeros((num_zero_centroids + 1,2,1,1))\n",
        "        heat_maps[i,:,:] = np.exp(-1/50 * (np.min(np.sqrt(np.sum(np.square(mesh_grid - labels[i,:,:,:,:]), axis=1)), axis=0)))\n",
        "\n",
        "    return heat_maps, labels\n",
        "\n",
        "def crop_images(labels, features, num, with_mixup = False):\n",
        "    labels_crop = list()\n",
        "    features_crop = list()\n",
        "\n",
        "    for i in range(num):\n",
        "        while True:\n",
        "            image = np.random.choice(labels.shape[0])\n",
        "            x = np.random.choice(labels.shape[1] - 192) + 64\n",
        "            y = np.random.choice(labels.shape[2] - 192) + 64\n",
        "\n",
        "            if np.sum(labels[image, x:x+64,y:y+64, 0]) >= (64 ** 2) * 0.05:\n",
        "\n",
        "                current_labels = labels[image, x:x+64,y:y+64, :]\n",
        "                if with_mixup:\n",
        "                    lam = np.reshape(np.random.beta(1, 1, 64*64), (64,64,1))\n",
        "                    x_j = np.reshape(np.random.choice(64,64*64), (64,64,1))\n",
        "                    y_j = np.reshape(np.random.choice(64,64*64), (64,64,1))\n",
        "                    y_j = labels[image, x_j, y_j]\n",
        "                    current_labels = np.where((1 - lam > 0.9) & (y_j == 1), 1, current_labels)\n",
        "\n",
        "                labels_crop.append(current_labels)\n",
        "                features_crop.append(features[image,x:x+64,y:y+64])\n",
        "                break\n",
        "\n",
        "    return np.asarray(labels_crop, dtype='uint8'), np.asarray(features_crop, dtype='uint8')"
      ],
      "execution_count": null,
      "outputs": []
    },
    {
      "cell_type": "code",
      "metadata": {
        "id": "DU2FBwlNamMJ",
        "colab_type": "code",
        "colab": {}
      },
      "source": [
        "# ======================\n",
        "# Heatmap preprocessing\n",
        "# ======================\n",
        "\n",
        "def invert_and_scale_heatmaps(labels):\n",
        "  labels_mod = []\n",
        "  for label in labels:\n",
        "    img = label[:,:,0]\n",
        "    # Only invert if closest pixels have high values\n",
        "    # and farthest/background pixels have low values;\n",
        "    # Goal is for closest pixels to have value 0\n",
        "    inverted_img = np.invert(img)\n",
        "    scaled_img = np.exp((-1 * inverted_img / 25) + 2.2)\n",
        "    h, w = scaled_img.shape\n",
        "    labels_mod.append(scaled_img.reshape(h, w, 1))\n",
        "  return np.array(labels_mod)\n",
        "\n",
        "def threshold_heatmaps(labels, direction='>', threshold_frac=0.5):\n",
        "  if direction not in ['>', '<']:\n",
        "    print(\"Your options for direction are > or <\")\n",
        "    return None\n",
        "  labels_mod = np.copy(labels)\n",
        "  for i in range(len(labels_mod)):\n",
        "    img = labels_mod[i][:,:,0]\n",
        "    irange = img.max() - img.min()\n",
        "    threshold = img.min() + threshold_frac*irange\n",
        "    if direction == '>':\n",
        "      img[img > threshold] = threshold\n",
        "    elif direction == '<':\n",
        "      img[img < threshold] = threshold\n",
        "    labels_mod[i] = img.reshape(img.shape[0], img.shape[1], 1)\n",
        "  return labels_mod\n",
        "\n",
        "def normalize_heatmaps(labels):\n",
        "  # Namely turn into 0-1\n",
        "  labels_mod = []\n",
        "  for label in labels:\n",
        "    img = label[:,:,0]\n",
        "    img = normalize_intensity(img)\n",
        "    h, w = img.shape\n",
        "    labels_mod.append(img.reshape(h, w, 1))\n",
        "  return np.array(labels_mod)"
      ],
      "execution_count": null,
      "outputs": []
    },
    {
      "cell_type": "code",
      "metadata": {
        "id": "yam8NszmamR9",
        "colab_type": "code",
        "colab": {
          "base_uri": "https://localhost:8080/",
          "height": 402
        },
        "outputId": "ed7dac34-c387-490e-d29f-ec45882df728"
      },
      "source": [
        "# ====================================\n",
        "# Run preprocessing!\n",
        "# ====================================\n",
        "\n",
        "labels = get_predeveloped_labels()\n",
        "labels = invert_and_scale_heatmaps(labels)\n",
        "labels = threshold_heatmaps(labels, '<', 0.1)\n",
        "labels = normalize_heatmaps(labels)\n",
        "print(labels.shape)\n",
        "\n",
        "features = develop_features_v2('newFrames/', labels.shape[0])\n",
        "print(features.shape)"
      ],
      "execution_count": null,
      "outputs": [
        {
          "output_type": "stream",
          "text": [
            "(201, 1024, 1024, 1)\n",
            "Done processing 10 images\n",
            "Done processing 20 images\n",
            "Done processing 30 images\n",
            "Done processing 40 images\n",
            "Done processing 50 images\n",
            "Done processing 60 images\n",
            "Done processing 70 images\n",
            "Done processing 80 images\n",
            "Done processing 90 images\n",
            "Done processing 100 images\n",
            "Done processing 110 images\n",
            "Done processing 120 images\n",
            "Done processing 130 images\n",
            "Done processing 140 images\n",
            "Done processing 150 images\n",
            "Done processing 160 images\n",
            "Done processing 170 images\n",
            "Done processing 180 images\n",
            "Done processing 190 images\n",
            "Done processing 200 images\n",
            "(201, 1024, 1024, 1)\n"
          ],
          "name": "stdout"
        }
      ]
    },
    {
      "cell_type": "code",
      "metadata": {
        "id": "gGQXKAt5amXH",
        "colab_type": "code",
        "colab": {}
      },
      "source": [
        "def expand_data_rotate(features, labels):\n",
        "  # Assume same number of features and labels\n",
        "  num, h, w, d = features.shape\n",
        "  extra_features = []\n",
        "  extra_labels = []\n",
        "  for i in range(num):\n",
        "    orig_feature = features[i,:,:,0]\n",
        "    orig_pmap = labels[i,:,:,0]\n",
        "    rotated_feature = rotate(orig_feature, 90, preserve_range=True)\n",
        "    rotated_pmap = rotate(orig_pmap, 90, preserve_range=True)\n",
        "    extra_features.append(rotated_feature.reshape(h, w, 1))\n",
        "    extra_labels.append(rotated_pmap.reshape(h, w, 1))\n",
        "  extra_features = np.array(extra_features)\n",
        "  extra_labels = np.array(extra_labels)\n",
        "  return extra_features, extra_labels"
      ],
      "execution_count": null,
      "outputs": []
    },
    {
      "cell_type": "code",
      "metadata": {
        "id": "ZnavqIsFambo",
        "colab_type": "code",
        "colab": {}
      },
      "source": [
        "extra_features, extra_labels = expand_data_rotate(features, labels)"
      ],
      "execution_count": null,
      "outputs": []
    },
    {
      "cell_type": "code",
      "metadata": {
        "id": "d0pzY9j_amgV",
        "colab_type": "code",
        "colab": {}
      },
      "source": [
        "new_features = np.concatenate((features, extra_features))\n",
        "del extra_features\n",
        "# del features"
      ],
      "execution_count": null,
      "outputs": []
    },
    {
      "cell_type": "code",
      "metadata": {
        "id": "GxIZJA95ammJ",
        "colab_type": "code",
        "colab": {}
      },
      "source": [
        "new_labels = np.concatenate((labels, extra_labels))\n",
        "del extra_labels\n",
        "# del labels"
      ],
      "execution_count": null,
      "outputs": []
    },
    {
      "cell_type": "code",
      "metadata": {
        "id": "7KvBg8_Hams8",
        "colab_type": "code",
        "colab": {}
      },
      "source": [
        "# Let train data be everything except\n",
        "# 1 - 202, 43 - 244, 87 - 288, 122 - 323, 160 - 361, 199 - 400\n",
        "\n",
        "test_indices = np.array([1, 202, 43, 244, 87, 288, 122, 323, 160, 361, 199, 400])\n",
        "train_indices = np.setdiff1d(np.arange(0, 402), test_indices)"
      ],
      "execution_count": null,
      "outputs": []
    },
    {
      "cell_type": "code",
      "metadata": {
        "id": "ijqMBdQwrWD-",
        "colab_type": "code",
        "colab": {}
      },
      "source": [
        "# Create dict to map old indices (0-401) to new ones (0-389 train, 0-11 test)\n",
        "old2test_idxs = {}\n",
        "\n",
        "j = 0\n",
        "for i in test_indices:\n",
        "  old2test_idxs[i] = j\n",
        "  j += 1\n",
        "\n",
        "old2train_idxs = {}\n",
        "\n",
        "j = 0\n",
        "for i in train_indices:\n",
        "  old2train_idxs[i] = j\n",
        "  j += 1"
      ],
      "execution_count": null,
      "outputs": []
    },
    {
      "cell_type": "code",
      "metadata": {
        "id": "Wlbogwluamj6",
        "colab_type": "code",
        "colab": {}
      },
      "source": [
        "test_labels = new_labels[test_indices]\n",
        "train_labels = new_labels[train_indices]"
      ],
      "execution_count": null,
      "outputs": []
    },
    {
      "cell_type": "code",
      "metadata": {
        "id": "n7aTuZVBamZY",
        "colab_type": "code",
        "colab": {}
      },
      "source": [
        "test_features = new_features[test_indices]\n",
        "train_features = new_features[train_indices]"
      ],
      "execution_count": null,
      "outputs": []
    },
    {
      "cell_type": "code",
      "metadata": {
        "id": "hyt8DUf_a531",
        "colab_type": "code",
        "colab": {}
      },
      "source": [
        "# ====================================\n",
        "# Define loss functions and NN model\n",
        "# ====================================\n",
        "\n",
        "\n",
        "def Weighted_cross_entropy_loss(beta = 1):\n",
        "  def convert_to_logits(y_pred):\n",
        "      y_pred = tf.clip_by_value(y_pred, tf.keras.backend.epsilon(), 1 - tf.keras.backend.epsilon())\n",
        "\n",
        "      return tf.math.log(y_pred / (1 - y_pred))\n",
        "\n",
        "  def loss(y_true, y_pred):\n",
        "      y_pred = convert_to_logits(y_pred)\n",
        "      loss = tf.nn.weighted_cross_entropy_with_logits(y_true, y_pred, beta)\n",
        "\n",
        "      # or reduce_sum and/or axis=-1\n",
        "      return tf.reduce_mean(loss)\n",
        "\n",
        "  return loss\n",
        "\n",
        "\n",
        "def Dice_loss():\n",
        "    def loss(y_true, y_pred):\n",
        "      y_pred = convert_to_logits(y_pred)\n",
        "      loss = tf.nn.weighted_cross_entropy_with_logits(y_true, y_pred, beta)\n",
        "\n",
        "      # or reduce_sum and/or axis=-1\n",
        "      return tf.reduce_mean(loss)\n",
        "\n",
        "    return loss\n",
        "\n",
        "\n",
        "def Tversky_loss(beta):\n",
        "    def loss(y_true, y_pred):\n",
        "      numerator = tf.reduce_sum(y_true * y_pred, axis=-1)\n",
        "      denominator = y_true * y_pred + beta * (1 - y_true) * y_pred + (1 - beta) * y_true * (1 - y_pred)\n",
        "\n",
        "      return 1 - (numerator + 1) / (tf.reduce_sum(denominator, axis=-1) + 1)\n",
        "\n",
        "    return loss\n",
        "\n",
        "\n",
        "def centroid_loss():\n",
        "    def loss(y_true, y_pred):\n",
        "        mesh_grid = tf.meshgrid(np.arange(0, 1024), np.arange(0, 1024))\n",
        "        mesh_grid = tf.repeat(mesh_grid, repeats = 128, axis=0)\n",
        "        distance = tf.min(tf.keras.backend.sum(tf.keras.backend.square(tf.keras.backend.reshape(y_true, (-1, 128, 1, 1)) - mesh_grid)), axis=0)\n",
        "\n",
        "def code_block_encode(prev_layer, filters, regularizer):\n",
        "    layer_1 = tf.keras.layers.MaxPool2D(pool_size=(2,2), padding='same')(prev_layer)   \n",
        "    layer_2 = tf.keras.layers.Conv2D(filters, (3, 3), padding='same', activation='relu', kernel_regularizer=regularizer)(layer_1)\n",
        "    layer_3 = tf.keras.layers.Conv2D(filters, (3, 3), padding='same', activation='relu', kernel_regularizer=regularizer)(layer_2)\n",
        "\n",
        "    return layer_3\n",
        "\n",
        "\n",
        "def code_block_decode(prev_layer, encoding_layer, filters, regularizer):\n",
        "    layer_1 = tf.keras.layers.Conv2DTranspose(filters, (3, 3), strides=(2, 2), padding='same', activation='relu', kernel_regularizer=regularizer)(prev_layer)\n",
        "    layer_2 = tf.keras.layers.concatenate([encoding_layer, layer_1])\n",
        "    layer_3 = tf.keras.layers.Conv2D(filters, (3, 3), padding='same', activation='relu', kernel_regularizer=regularizer)(layer_2)\n",
        "    layer_4 = tf.keras.layers.Conv2D(filters, (3, 3), padding='same', activation='relu', kernel_regularizer=regularizer)(layer_3)\n",
        "\n",
        "    return layer_4\n",
        "\n",
        "\n",
        "def create_UNet(img_dim, filters, regularizer, learning_rate):\n",
        "    if regularizer == 'None':\n",
        "        regularizer = None\n",
        "\n",
        "    input = tf.keras.layers.Input(shape=img_dim[1:], dtype='float32')\n",
        "    input_block = tf.keras.layers.Conv2D(filters, (3, 3), padding='same', activation='relu', kernel_regularizer=regularizer)(input)\n",
        "    input_block = tf.keras.layers.Conv2D(filters, (3, 3), padding='same', activation='relu', kernel_regularizer=regularizer)(input_block)\n",
        "\n",
        "\n",
        "    filters *=2\n",
        "    encode_block1 = code_block_encode(input_block, filters, regularizer)\n",
        "    filters *= 2\n",
        "    encode_block2 = code_block_encode(encode_block1, filters, regularizer)\n",
        "    filters *= 2\n",
        "    encode_block3 = code_block_encode(encode_block2, filters, regularizer)\n",
        "    filters *= 2\n",
        "    descriptors = code_block_encode(encode_block3, filters, regularizer)\n",
        "    filters /= 2\n",
        "    decode_block3 = code_block_decode(descriptors, encode_block3, filters, regularizer)\n",
        "    filters /= 2\n",
        "    decode_block2 = code_block_decode(decode_block3, encode_block2, filters, regularizer)\n",
        "    filters /= 2\n",
        "    decode_block1 = code_block_decode(decode_block2, encode_block1, filters, regularizer)\n",
        "    filters /= 2\n",
        "    output = code_block_decode(decode_block1, input_block, filters, regularizer)\n",
        "    output = tf.keras.layers.Conv2D(1, 1, activation = 'sigmoid', kernel_regularizer=regularizer)(output)\n",
        "\n",
        "    model = tf.keras.Model(inputs=input, outputs=[output])\n",
        "    model.compile(optimizer=tf.keras.optimizers.Adam(learning_rate = learning_rate), loss=tf.keras.losses.BinaryCrossentropy(), metrics=[tf.keras.metrics.TruePositives(), tf.keras.metrics.Precision(), tf.keras.metrics.Recall()])\n",
        "    return model\n"
      ],
      "execution_count": null,
      "outputs": []
    },
    {
      "cell_type": "code",
      "metadata": {
        "id": "kmFTMjPYs5Kr",
        "colab_type": "code",
        "colab": {
          "base_uri": "https://localhost:8080/",
          "height": 1000
        },
        "outputId": "8c777b1b-1290-4929-ddf1-fb5af2b5893d"
      },
      "source": [
        "# ====================================\n",
        "# Run the NN! (Old version)\n",
        "# ====================================\n",
        "\n",
        "model = create_UNet(np.shape(features), 16, None, 0.001)\n",
        "model.summary()\n",
        "model.fit(train_features[1:,:,:,:], train_labels[1:,:,:,:], epochs=16, batch_size=4, validation_split=0.1)"
      ],
      "execution_count": null,
      "outputs": [
        {
          "output_type": "stream",
          "text": [
            "WARNING:tensorflow:From /usr/local/lib/python3.6/dist-packages/tensorflow/python/ops/resource_variable_ops.py:1666: calling BaseResourceVariable.__init__ (from tensorflow.python.ops.resource_variable_ops) with constraint is deprecated and will be removed in a future version.\n",
            "Instructions for updating:\n",
            "If using Keras pass *_constraint arguments to layers.\n",
            "Model: \"model\"\n",
            "__________________________________________________________________________________________________\n",
            "Layer (type)                    Output Shape         Param #     Connected to                     \n",
            "==================================================================================================\n",
            "input_1 (InputLayer)            [(None, 1024, 1024,  0                                            \n",
            "__________________________________________________________________________________________________\n",
            "conv2d (Conv2D)                 (None, 1024, 1024, 1 160         input_1[0][0]                    \n",
            "__________________________________________________________________________________________________\n",
            "conv2d_1 (Conv2D)               (None, 1024, 1024, 1 2320        conv2d[0][0]                     \n",
            "__________________________________________________________________________________________________\n",
            "max_pooling2d (MaxPooling2D)    (None, 512, 512, 16) 0           conv2d_1[0][0]                   \n",
            "__________________________________________________________________________________________________\n",
            "conv2d_2 (Conv2D)               (None, 512, 512, 32) 4640        max_pooling2d[0][0]              \n",
            "__________________________________________________________________________________________________\n",
            "conv2d_3 (Conv2D)               (None, 512, 512, 32) 9248        conv2d_2[0][0]                   \n",
            "__________________________________________________________________________________________________\n",
            "max_pooling2d_1 (MaxPooling2D)  (None, 256, 256, 32) 0           conv2d_3[0][0]                   \n",
            "__________________________________________________________________________________________________\n",
            "conv2d_4 (Conv2D)               (None, 256, 256, 64) 18496       max_pooling2d_1[0][0]            \n",
            "__________________________________________________________________________________________________\n",
            "conv2d_5 (Conv2D)               (None, 256, 256, 64) 36928       conv2d_4[0][0]                   \n",
            "__________________________________________________________________________________________________\n",
            "max_pooling2d_2 (MaxPooling2D)  (None, 128, 128, 64) 0           conv2d_5[0][0]                   \n",
            "__________________________________________________________________________________________________\n",
            "conv2d_6 (Conv2D)               (None, 128, 128, 128 73856       max_pooling2d_2[0][0]            \n",
            "__________________________________________________________________________________________________\n",
            "conv2d_7 (Conv2D)               (None, 128, 128, 128 147584      conv2d_6[0][0]                   \n",
            "__________________________________________________________________________________________________\n",
            "max_pooling2d_3 (MaxPooling2D)  (None, 64, 64, 128)  0           conv2d_7[0][0]                   \n",
            "__________________________________________________________________________________________________\n",
            "conv2d_8 (Conv2D)               (None, 64, 64, 256)  295168      max_pooling2d_3[0][0]            \n",
            "__________________________________________________________________________________________________\n",
            "conv2d_9 (Conv2D)               (None, 64, 64, 256)  590080      conv2d_8[0][0]                   \n",
            "__________________________________________________________________________________________________\n",
            "conv2d_transpose (Conv2DTranspo (None, 128, 128, 128 295040      conv2d_9[0][0]                   \n",
            "__________________________________________________________________________________________________\n",
            "concatenate (Concatenate)       (None, 128, 128, 256 0           conv2d_7[0][0]                   \n",
            "                                                                 conv2d_transpose[0][0]           \n",
            "__________________________________________________________________________________________________\n",
            "conv2d_10 (Conv2D)              (None, 128, 128, 128 295040      concatenate[0][0]                \n",
            "__________________________________________________________________________________________________\n",
            "conv2d_11 (Conv2D)              (None, 128, 128, 128 147584      conv2d_10[0][0]                  \n",
            "__________________________________________________________________________________________________\n",
            "conv2d_transpose_1 (Conv2DTrans (None, 256, 256, 64) 73792       conv2d_11[0][0]                  \n",
            "__________________________________________________________________________________________________\n",
            "concatenate_1 (Concatenate)     (None, 256, 256, 128 0           conv2d_5[0][0]                   \n",
            "                                                                 conv2d_transpose_1[0][0]         \n",
            "__________________________________________________________________________________________________\n",
            "conv2d_12 (Conv2D)              (None, 256, 256, 64) 73792       concatenate_1[0][0]              \n",
            "__________________________________________________________________________________________________\n",
            "conv2d_13 (Conv2D)              (None, 256, 256, 64) 36928       conv2d_12[0][0]                  \n",
            "__________________________________________________________________________________________________\n",
            "conv2d_transpose_2 (Conv2DTrans (None, 512, 512, 32) 18464       conv2d_13[0][0]                  \n",
            "__________________________________________________________________________________________________\n",
            "concatenate_2 (Concatenate)     (None, 512, 512, 64) 0           conv2d_3[0][0]                   \n",
            "                                                                 conv2d_transpose_2[0][0]         \n",
            "__________________________________________________________________________________________________\n",
            "conv2d_14 (Conv2D)              (None, 512, 512, 32) 18464       concatenate_2[0][0]              \n",
            "__________________________________________________________________________________________________\n",
            "conv2d_15 (Conv2D)              (None, 512, 512, 32) 9248        conv2d_14[0][0]                  \n",
            "__________________________________________________________________________________________________\n",
            "conv2d_transpose_3 (Conv2DTrans (None, 1024, 1024, 1 4624        conv2d_15[0][0]                  \n",
            "__________________________________________________________________________________________________\n",
            "concatenate_3 (Concatenate)     (None, 1024, 1024, 3 0           conv2d_1[0][0]                   \n",
            "                                                                 conv2d_transpose_3[0][0]         \n",
            "__________________________________________________________________________________________________\n",
            "conv2d_16 (Conv2D)              (None, 1024, 1024, 1 4624        concatenate_3[0][0]              \n",
            "__________________________________________________________________________________________________\n",
            "conv2d_17 (Conv2D)              (None, 1024, 1024, 1 2320        conv2d_16[0][0]                  \n",
            "__________________________________________________________________________________________________\n",
            "conv2d_18 (Conv2D)              (None, 1024, 1024, 1 17          conv2d_17[0][0]                  \n",
            "==================================================================================================\n",
            "Total params: 2,158,417\n",
            "Trainable params: 2,158,417\n",
            "Non-trainable params: 0\n",
            "__________________________________________________________________________________________________\n",
            "Train on 350 samples, validate on 39 samples\n",
            "Epoch 1/16\n",
            "350/350 [==============================] - 34s 96ms/sample - loss: 0.2382 - true_positives: 8416291.0000 - precision: 0.7119 - recall: 0.0959 - val_loss: 0.1936 - val_true_positives: 2041377.0000 - val_precision: 0.9969 - val_recall: 0.1150\n",
            "Epoch 2/16\n",
            "350/350 [==============================] - 31s 88ms/sample - loss: 0.1032 - true_positives: 10233323.0000 - precision: 0.9974 - recall: 0.1165 - val_loss: 0.1877 - val_true_positives: 1767211.0000 - val_precision: 0.9980 - val_recall: 0.0996\n",
            "Epoch 3/16\n",
            "350/350 [==============================] - 31s 88ms/sample - loss: 0.1014 - true_positives: 10395909.0000 - precision: 0.9976 - recall: 0.1184 - val_loss: 0.1856 - val_true_positives: 2022463.0000 - val_precision: 0.9982 - val_recall: 0.1139\n",
            "Epoch 4/16\n",
            "350/350 [==============================] - 31s 88ms/sample - loss: 0.0999 - true_positives: 10053089.0000 - precision: 0.9977 - recall: 0.1145 - val_loss: 0.1839 - val_true_positives: 2009527.0000 - val_precision: 0.9978 - val_recall: 0.1132\n",
            "Epoch 5/16\n",
            "350/350 [==============================] - 31s 88ms/sample - loss: 0.0995 - true_positives: 9954109.0000 - precision: 0.9978 - recall: 0.1134 - val_loss: 0.1857 - val_true_positives: 2276638.0000 - val_precision: 0.9964 - val_recall: 0.1282\n",
            "Epoch 6/16\n",
            "350/350 [==============================] - 31s 88ms/sample - loss: 0.0995 - true_positives: 9929237.0000 - precision: 0.9971 - recall: 0.1131 - val_loss: 0.1832 - val_true_positives: 2036242.0000 - val_precision: 0.9977 - val_recall: 0.1147\n",
            "Epoch 7/16\n",
            "350/350 [==============================] - 31s 88ms/sample - loss: 0.0989 - true_positives: 9811864.0000 - precision: 0.9977 - recall: 0.1117 - val_loss: 0.1825 - val_true_positives: 2202346.0000 - val_precision: 0.9967 - val_recall: 0.1241\n",
            "Epoch 8/16\n",
            "350/350 [==============================] - 31s 88ms/sample - loss: 0.0986 - true_positives: 9756877.0000 - precision: 0.9974 - recall: 0.1111 - val_loss: 0.1830 - val_true_positives: 1981862.0000 - val_precision: 0.9984 - val_recall: 0.1116\n",
            "Epoch 9/16\n",
            "350/350 [==============================] - 31s 88ms/sample - loss: 0.0985 - true_positives: 9806187.0000 - precision: 0.9975 - recall: 0.1117 - val_loss: 0.1867 - val_true_positives: 1660013.0000 - val_precision: 0.9990 - val_recall: 0.0935\n",
            "Epoch 10/16\n",
            "350/350 [==============================] - 31s 88ms/sample - loss: 0.0986 - true_positives: 9815327.0000 - precision: 0.9975 - recall: 0.1118 - val_loss: 0.1819 - val_true_positives: 2152363.0000 - val_precision: 0.9980 - val_recall: 0.1212\n",
            "Epoch 11/16\n",
            "350/350 [==============================] - 31s 88ms/sample - loss: 0.0981 - true_positives: 9815513.0000 - precision: 0.9979 - recall: 0.1118 - val_loss: 0.1818 - val_true_positives: 2114202.0000 - val_precision: 0.9969 - val_recall: 0.1191\n",
            "Epoch 12/16\n",
            "350/350 [==============================] - 31s 88ms/sample - loss: 0.0980 - true_positives: 9920857.0000 - precision: 0.9980 - recall: 0.1130 - val_loss: 0.1814 - val_true_positives: 2121986.0000 - val_precision: 0.9981 - val_recall: 0.1195\n",
            "Epoch 13/16\n",
            "350/350 [==============================] - 31s 88ms/sample - loss: 0.0978 - true_positives: 9924701.0000 - precision: 0.9980 - recall: 0.1130 - val_loss: 0.1814 - val_true_positives: 2288738.0000 - val_precision: 0.9982 - val_recall: 0.1289\n",
            "Epoch 14/16\n",
            "350/350 [==============================] - 31s 88ms/sample - loss: 0.0978 - true_positives: 9958670.0000 - precision: 0.9982 - recall: 0.1134 - val_loss: 0.1814 - val_true_positives: 2055090.0000 - val_precision: 0.9972 - val_recall: 0.1158\n",
            "Epoch 15/16\n",
            "350/350 [==============================] - 31s 88ms/sample - loss: 0.0976 - true_positives: 9982521.0000 - precision: 0.9982 - recall: 0.1137 - val_loss: 0.1812 - val_true_positives: 2214158.0000 - val_precision: 0.9982 - val_recall: 0.1247\n",
            "Epoch 16/16\n",
            "350/350 [==============================] - 31s 88ms/sample - loss: 0.0976 - true_positives: 9964890.0000 - precision: 0.9980 - recall: 0.1135 - val_loss: 0.1812 - val_true_positives: 2333849.0000 - val_precision: 0.9983 - val_recall: 0.1315\n"
          ],
          "name": "stdout"
        },
        {
          "output_type": "execute_result",
          "data": {
            "text/plain": [
              "<tensorflow.python.keras.callbacks.History at 0x7f21a1eab5c0>"
            ]
          },
          "metadata": {
            "tags": []
          },
          "execution_count": 16
        }
      ]
    },
    {
      "cell_type": "code",
      "metadata": {
        "id": "fUNzZp7Kw2MG",
        "colab_type": "code",
        "colab": {
          "base_uri": "https://localhost:8080/",
          "height": 54
        },
        "outputId": "21c56d7f-47f9-4ab8-a98c-35ecbca419ec"
      },
      "source": [
        "# ====================================\n",
        "# Get heatmap stats for old NN\n",
        "# ====================================\n",
        "\n",
        "real_centroids = get_centroids('newCentroids/')\n",
        "centroid_counts = get_centroid_counts(real_centroids)\n",
        "\n",
        "# Map original indices (0-200) to indices when ordered by centroid count\n",
        "# Increasing order. Centroid counts range from 7 to 107\n",
        "\n",
        "count_order_idx_dict = {}\n",
        "\n",
        "for i in range(len(centroid_counts)):\n",
        "  count_order_idx_dict[i] = centroid_counts[i]"
      ],
      "execution_count": null,
      "outputs": [
        {
          "output_type": "stream",
          "text": [
            "/usr/local/lib/python3.6/dist-packages/ipykernel_launcher.py:124: DeprecationWarning: elementwise comparison failed; this will raise an error in the future.\n"
          ],
          "name": "stderr"
        }
      ]
    },
    {
      "cell_type": "code",
      "metadata": {
        "id": "hlQzEvQuzv6Z",
        "colab_type": "code",
        "colab": {
          "base_uri": "https://localhost:8080/",
          "height": 34
        },
        "outputId": "9f527b61-25b5-44c6-acfd-ae29bd543269"
      },
      "source": [
        "count_ordered_idxs = [idx for (idx, count) in sorted(count_order_idx_dict.items(), key=lambda item: item[1])]\n",
        "\n",
        "'''\n",
        "for i in count_ordered_idxs:\n",
        "  print(centroid_counts[i])\n",
        "'''"
      ],
      "execution_count": null,
      "outputs": [
        {
          "output_type": "execute_result",
          "data": {
            "text/plain": [
              "'\\nfor i in count_ordered_idxs:\\n  print(centroid_counts[i])\\n'"
            ]
          },
          "metadata": {
            "tags": []
          },
          "execution_count": 18
        }
      ]
    },
    {
      "cell_type": "code",
      "metadata": {
        "id": "e9PUfUxyyS9G",
        "colab_type": "code",
        "colab": {}
      },
      "source": [
        "heatmap_losses_train = []\n",
        "centroid_counts_train = []\n",
        "\n",
        "heatmap_losses_test = []\n",
        "centroid_counts_test = []\n",
        "\n",
        "for idx in count_ordered_idxs: # these are OLD indices\n",
        "  centroid_count = centroid_counts[idx]\n",
        "  if idx in train_indices:\n",
        "    train_idx = old2train_idxs[idx]\n",
        "    loss, _, _, _ = model.evaluate(train_features[train_idx:train_idx+1,:,:,:], train_labels[train_idx:train_idx+1,:,:,:], batch_size=4)\n",
        "    heatmap_losses_train.append(loss)\n",
        "    centroid_counts_train.append(centroid_count)\n",
        "  elif idx in test_indices:\n",
        "    test_idx = old2test_idxs[idx]\n",
        "    loss, _, _, _ = model.evaluate(test_features[test_idx:test_idx+1,:,:,:], test_labels[test_idx:test_idx+1,:,:,:], batch_size=4)\n",
        "    heatmap_losses_test.append(loss)\n",
        "    centroid_counts_test.append(centroid_count)"
      ],
      "execution_count": null,
      "outputs": []
    },
    {
      "cell_type": "code",
      "metadata": {
        "id": "tx9cxvVU204_",
        "colab_type": "code",
        "colab": {}
      },
      "source": [
        "norm_heatmap_losses_train = np.array(heatmap_losses_train) / np.array(centroid_counts_train)\n",
        "norm_heatmap_losses_test = np.array(heatmap_losses_test) / np.array(centroid_counts_test)"
      ],
      "execution_count": null,
      "outputs": []
    },
    {
      "cell_type": "code",
      "metadata": {
        "id": "B-6ZvGFe5La1",
        "colab_type": "code",
        "colab": {
          "base_uri": "https://localhost:8080/",
          "height": 410
        },
        "outputId": "e4d075eb-65a6-40d7-889d-cb21bb898b50"
      },
      "source": [
        "plt.figure(figsize=(8,6))\n",
        "plt.plot(centroid_counts_train, heatmap_losses_train, 'r.', label='Training data')\n",
        "plt.plot(centroid_counts_test, heatmap_losses_test, 'b.', label='Test data')\n",
        "plt.xlabel('True centroid count', fontsize=14)\n",
        "plt.ylabel('Heatmap prediction loss (cross entropy)', fontsize=14)\n",
        "plt.title('Heatmap prediction loss vs. number of bacteria per frame', fontsize=16)\n",
        "plt.legend(loc='upper left', fontsize=14)\n",
        "plt.savefig('heatmap_loss_vs_centroid_count.pdf', bbox_inches='tight')"
      ],
      "execution_count": null,
      "outputs": [
        {
          "output_type": "display_data",
          "data": {
            "image/png": "[encoded data removed]",
            "text/plain": [
              "<Figure size 576x432 with 1 Axes>"
            ]
          },
          "metadata": {
            "tags": [],
            "needs_background": "light"
          }
        }
      ]
    },
    {
      "cell_type": "code",
      "metadata": {
        "id": "EApv_at78--z",
        "colab_type": "code",
        "colab": {
          "base_uri": "https://localhost:8080/",
          "height": 69
        },
        "outputId": "2d7961ef-9af9-411d-b9e4-fada68a75637"
      },
      "source": [
        "# Oh yea, grab some more pics for report\n",
        "\n",
        "img = 0\n",
        "\n",
        "# Predicted\n",
        "pred = np.reshape((model.predict(features[img:img+1,:,:,:])), (1024, 1024))\n",
        "plt.figure(figsize=(8,8))\n",
        "# plt.imshow(pred, cmap='hot')\n",
        "\n",
        "# Label\n",
        "plt.figure(figsize=(8,8))\n",
        "# plt.imshow(labels[img,:,:,0], cmap='hot')"
      ],
      "execution_count": null,
      "outputs": [
        {
          "output_type": "execute_result",
          "data": {
            "text/plain": [
              "<Figure size 576x576 with 0 Axes>"
            ]
          },
          "metadata": {
            "tags": []
          },
          "execution_count": 35
        },
        {
          "output_type": "display_data",
          "data": {
            "text/plain": [
              "<Figure size 576x576 with 0 Axes>"
            ]
          },
          "metadata": {
            "tags": []
          }
        },
        {
          "output_type": "display_data",
          "data": {
            "text/plain": [
              "<Figure size 576x576 with 0 Axes>"
            ]
          },
          "metadata": {
            "tags": []
          }
        }
      ]
    },
    {
      "cell_type": "code",
      "metadata": {
        "id": "YrfCEsBn_qqZ",
        "colab_type": "code",
        "colab": {}
      },
      "source": [
        "# ====================================\n",
        "# Heatmap to centroid prediction:\n",
        "# Local search/clustering approach\n",
        "# ====================================\n",
        "\n",
        "def build_cluster(cur_idx, idxs_remaining, radius=3):\n",
        "  # Explore square region of fixed size around cur_idx\n",
        "  # If nothing, just return empty list\n",
        "  # If you find anything, recursively call build_cluster\n",
        "  # and return list of indices to add to cluster\n",
        "\n",
        "  # Note the return value excludes cur_idx itself!\n",
        "  # and assume cur_idx is already removed from idxs_remaining!\n",
        "\n",
        "  x, y = cur_idx\n",
        "  local_members = []\n",
        "  all_new_members = []\n",
        "\n",
        "  if idxs_remaining == []:\n",
        "    return []\n",
        "  \n",
        "  for i in range(-radius, radius+1):\n",
        "    for j in range(-radius, radius+1):\n",
        "      nx, ny = x+i, y+j\n",
        "      if (nx, ny) in idxs_remaining: # Found something!\n",
        "        \n",
        "        # Before we recurse, add all surrounding points\n",
        "        # (that are not already accounted for)\n",
        "        local_members.append((nx, ny))\n",
        "        all_new_members.append((nx, ny))\n",
        "        idxs_remaining.remove((nx, ny))\n",
        "  \n",
        "  for (nx, ny) in local_members:\n",
        "        \n",
        "    # Second pass: now recurse and add new points\n",
        "    more_members = build_cluster((nx, ny), idxs_remaining, radius)\n",
        "    all_new_members += more_members\n",
        "  \n",
        "  return all_new_members\n",
        "\n",
        "def find_cluster_center(cluster, img):\n",
        "  \n",
        "  best_idx = cluster[0]\n",
        "  max_intensity = 0\n",
        "\n",
        "  for idx in cluster:\n",
        "    intensity = img[idx]\n",
        "    if intensity > max_intensity:\n",
        "      max_intensity = intensity\n",
        "      best_idx = idx\n",
        "  \n",
        "  return best_idx\n",
        "\n",
        "def predict_centroids(heatmap, intensity_threshold = 0.75):\n",
        "  # Produces list of centroids from heatmap\n",
        "  idxs_interest = np.argwhere(heatmap > intensity_threshold)  \n",
        "  idxs_remaining = [tuple(idx) for idx in idxs_interest] # List copy\n",
        "  clusters = []\n",
        "  for cur_idx in idxs_interest:\n",
        "    cur_idx = tuple(cur_idx)\n",
        "    # Already counted in previous cluster\n",
        "    if cur_idx not in idxs_remaining:\n",
        "      continue\n",
        "    # Create new cluster    \n",
        "    idxs_remaining.remove(cur_idx)\n",
        "    cluster = build_cluster(cur_idx, idxs_remaining, radius=2)\n",
        "    cluster.append(cur_idx)\n",
        "    # Add new cluster to list of clusters\n",
        "    clusters.append(cluster)\n",
        "  centroids = [find_cluster_center(cluster, cpy) for cluster in clusters]\n",
        "  return centroids"
      ],
      "execution_count": null,
      "outputs": []
    },
    {
      "cell_type": "code",
      "metadata": {
        "id": "NPrRmYJV8un5",
        "colab_type": "code",
        "colab": {
          "base_uri": "https://localhost:8080/",
          "height": 591
        },
        "outputId": "3c5e519f-eec4-4718-e11f-cb4b0b934aae"
      },
      "source": [
        "# Now, want to do the same thing but for centroid count and coordinate loss\n",
        "\n",
        "# Start with an example, as always\n",
        "# Decide to use fixed threshold of 0.75 and cluster build \"radius\" 2\n",
        "\n",
        "cpy = np.copy(pred)\n",
        "\n",
        "centroids = predict_centroids(cpy, 0.75)\n",
        "print(\"There are %s predicted centroids\" % len(centroids))\n",
        "\n",
        "cpy_heatmap = np.copy(pred)\n",
        "cpy_orig = np.copy(features[img,:,:,0])\n",
        "cpy_orig_c2 = np.zeros(features[img,:,:,0].shape)\n",
        "\n",
        "for x, y in centroids:\n",
        "  cpy_heatmap[x-5:x+5,y-5:y+5] = 0\n",
        "  cpy_orig_c2[x-5:x+5,y-5:y+5] = 200\n",
        "\n",
        "cpy_orig_c3 = np.zeros(features[img,:,:,0].shape)\n",
        "\n",
        "print(\"There are %s real centroids\" % len(real_centroids[img]))\n",
        "\n",
        "for y, x in real_centroids[img]:\n",
        "  cpy_orig_c3[x-5:x+5,y-5:y+5] = 200\n",
        "\n",
        "cpy_orig_labelled = np.dstack([cpy_orig, cpy_orig_c2, cpy_orig_c3])\n",
        "\n",
        "plt.figure()\n",
        "plt.imshow(cpy_heatmap, cmap='hot')\n",
        "\n",
        "plt.figure()\n",
        "plt.imshow(cpy_orig_labelled)"
      ],
      "execution_count": null,
      "outputs": [
        {
          "output_type": "stream",
          "text": [
            "Clipping input data to the valid range for imshow with RGB data ([0..1] for floats or [0..255] for integers).\n"
          ],
          "name": "stderr"
        },
        {
          "output_type": "stream",
          "text": [
            "There are 10 predicted centroids\n",
            "There are 11 real centroids\n"
          ],
          "name": "stdout"
        },
        {
          "output_type": "execute_result",
          "data": {
            "text/plain": [
              "<matplotlib.image.AxesImage at 0x7f212ce48080>"
            ]
          },
          "metadata": {
            "tags": []
          },
          "execution_count": 36
        },
        {
          "output_type": "display_data",
          "data": {
            "image/png": "[encoded data removed]",
            "text/plain": [
              "<Figure size 432x288 with 1 Axes>"
            ]
          },
          "metadata": {
            "tags": [],
            "needs_background": "light"
          }
        },
        {
          "output_type": "display_data",
          "data": {
            "image/png": "[encoded data removed]",
            "text/plain": [
              "<Figure size 432x288 with 1 Axes>"
            ]
          },
          "metadata": {
            "tags": [],
            "needs_background": "light"
          }
        }
      ]
    },
    {
      "cell_type": "code",
      "metadata": {
        "id": "ZM3qC2DXFpm5",
        "colab_type": "code",
        "colab": {
          "base_uri": "https://localhost:8080/",
          "height": 1000
        },
        "outputId": "a4f7307f-ef5e-465a-a885-d660e68ff901"
      },
      "source": [
        "all_centroids = []\n",
        "\n",
        "for i in range(len(features)):\n",
        "  feature = features[i:i+1,:,:,:]\n",
        "  pred_heatmap = np.reshape((model.predict(feature)), (1024, 1024))\n",
        "  centroids = predict_centroids(pred_heatmap, 0.75)\n",
        "  all_centroids.append(centroids)\n",
        "  print(\"Finished feature %i\" % i)\n",
        "\n",
        "# Pickle them centroids since they took so long...\n",
        "import pickle\n",
        "centroid_pred_file = open('centroid_predictions.pkl', 'wb')\n",
        "pickle.dump(all_centroids, centroid_pred_file)"
      ],
      "execution_count": null,
      "outputs": [
        {
          "output_type": "stream",
          "text": [
            "Finished feature 0\n",
            "Finished feature 1\n",
            "Finished feature 2\n",
            "Finished feature 3\n",
            "Finished feature 4\n",
            "Finished feature 5\n",
            "Finished feature 6\n",
            "Finished feature 7\n",
            "Finished feature 8\n",
            "Finished feature 9\n",
            "Finished feature 10\n",
            "Finished feature 11\n",
            "Finished feature 12\n",
            "Finished feature 13\n",
            "Finished feature 14\n",
            "Finished feature 15\n",
            "Finished feature 16\n",
            "Finished feature 17\n",
            "Finished feature 18\n",
            "Finished feature 19\n",
            "Finished feature 20\n",
            "Finished feature 21\n",
            "Finished feature 22\n",
            "Finished feature 23\n",
            "Finished feature 24\n",
            "Finished feature 25\n",
            "Finished feature 26\n",
            "Finished feature 27\n",
            "Finished feature 28\n",
            "Finished feature 29\n",
            "Finished feature 30\n",
            "Finished feature 31\n",
            "Finished feature 32\n",
            "Finished feature 33\n",
            "Finished feature 34\n",
            "Finished feature 35\n",
            "Finished feature 36\n",
            "Finished feature 37\n",
            "Finished feature 38\n",
            "Finished feature 39\n",
            "Finished feature 40\n",
            "Finished feature 41\n",
            "Finished feature 42\n",
            "Finished feature 43\n",
            "Finished feature 44\n",
            "Finished feature 45\n",
            "Finished feature 46\n",
            "Finished feature 47\n",
            "Finished feature 48\n",
            "Finished feature 49\n",
            "Finished feature 50\n",
            "Finished feature 51\n",
            "Finished feature 52\n",
            "Finished feature 53\n",
            "Finished feature 54\n",
            "Finished feature 55\n",
            "Finished feature 56\n",
            "Finished feature 57\n",
            "Finished feature 58\n",
            "Finished feature 59\n",
            "Finished feature 60\n",
            "Finished feature 61\n",
            "Finished feature 62\n",
            "Finished feature 63\n",
            "Finished feature 64\n",
            "Finished feature 65\n",
            "Finished feature 66\n",
            "Finished feature 67\n",
            "Finished feature 68\n",
            "Finished feature 69\n",
            "Finished feature 70\n",
            "Finished feature 71\n",
            "Finished feature 72\n",
            "Finished feature 73\n",
            "Finished feature 74\n",
            "Finished feature 75\n",
            "Finished feature 76\n",
            "Finished feature 77\n",
            "Finished feature 78\n",
            "Finished feature 79\n",
            "Finished feature 80\n",
            "Finished feature 81\n",
            "Finished feature 82\n",
            "Finished feature 83\n",
            "Finished feature 84\n",
            "Finished feature 85\n",
            "Finished feature 86\n",
            "Finished feature 87\n",
            "Finished feature 88\n",
            "Finished feature 89\n",
            "Finished feature 90\n",
            "Finished feature 91\n",
            "Finished feature 92\n",
            "Finished feature 93\n",
            "Finished feature 94\n",
            "Finished feature 95\n",
            "Finished feature 96\n",
            "Finished feature 97\n",
            "Finished feature 98\n",
            "Finished feature 99\n",
            "Finished feature 100\n",
            "Finished feature 101\n",
            "Finished feature 102\n",
            "Finished feature 103\n",
            "Finished feature 104\n",
            "Finished feature 105\n",
            "Finished feature 106\n",
            "Finished feature 107\n",
            "Finished feature 108\n",
            "Finished feature 109\n",
            "Finished feature 110\n",
            "Finished feature 111\n",
            "Finished feature 112\n",
            "Finished feature 113\n",
            "Finished feature 114\n",
            "Finished feature 115\n",
            "Finished feature 116\n",
            "Finished feature 117\n",
            "Finished feature 118\n",
            "Finished feature 119\n",
            "Finished feature 120\n",
            "Finished feature 121\n",
            "Finished feature 122\n",
            "Finished feature 123\n",
            "Finished feature 124\n",
            "Finished feature 125\n",
            "Finished feature 126\n",
            "Finished feature 127\n",
            "Finished feature 128\n",
            "Finished feature 129\n",
            "Finished feature 130\n",
            "Finished feature 131\n",
            "Finished feature 132\n",
            "Finished feature 133\n",
            "Finished feature 134\n",
            "Finished feature 135\n",
            "Finished feature 136\n",
            "Finished feature 137\n",
            "Finished feature 138\n",
            "Finished feature 139\n",
            "Finished feature 140\n",
            "Finished feature 141\n",
            "Finished feature 142\n",
            "Finished feature 143\n",
            "Finished feature 144\n",
            "Finished feature 145\n",
            "Finished feature 146\n",
            "Finished feature 147\n",
            "Finished feature 148\n",
            "Finished feature 149\n",
            "Finished feature 150\n",
            "Finished feature 151\n",
            "Finished feature 152\n",
            "Finished feature 153\n",
            "Finished feature 154\n",
            "Finished feature 155\n",
            "Finished feature 156\n",
            "Finished feature 157\n",
            "Finished feature 158\n",
            "Finished feature 159\n",
            "Finished feature 160\n",
            "Finished feature 161\n",
            "Finished feature 162\n",
            "Finished feature 163\n",
            "Finished feature 164\n",
            "Finished feature 165\n",
            "Finished feature 166\n",
            "Finished feature 167\n",
            "Finished feature 168\n",
            "Finished feature 169\n",
            "Finished feature 170\n",
            "Finished feature 171\n",
            "Finished feature 172\n",
            "Finished feature 173\n",
            "Finished feature 174\n",
            "Finished feature 175\n",
            "Finished feature 176\n",
            "Finished feature 177\n",
            "Finished feature 178\n",
            "Finished feature 179\n",
            "Finished feature 180\n",
            "Finished feature 181\n",
            "Finished feature 182\n",
            "Finished feature 183\n",
            "Finished feature 184\n",
            "Finished feature 185\n",
            "Finished feature 186\n",
            "Finished feature 187\n",
            "Finished feature 188\n",
            "Finished feature 189\n",
            "Finished feature 190\n",
            "Finished feature 191\n",
            "Finished feature 192\n",
            "Finished feature 193\n",
            "Finished feature 194\n",
            "Finished feature 195\n",
            "Finished feature 196\n",
            "Finished feature 197\n",
            "Finished feature 198\n",
            "Finished feature 199\n",
            "Finished feature 200\n"
          ],
          "name": "stdout"
        }
      ]
    },
    {
      "cell_type": "code",
      "metadata": {
        "id": "lyT6a_Kv436o",
        "colab_type": "code",
        "colab": {}
      },
      "source": [
        "import pickle\n",
        "centroid_pred_file = open('centroid_predictions.pkl', 'rb')\n",
        "all_centroids = pickle.load(centroid_pred_file)"
      ],
      "execution_count": null,
      "outputs": []
    },
    {
      "cell_type": "code",
      "metadata": {
        "id": "ppVAEVj5mqXI",
        "colab_type": "code",
        "colab": {
          "base_uri": "https://localhost:8080/",
          "height": 52
        },
        "outputId": "dd18d00a-3f51-47be-b3e3-0430fb91d4ed"
      },
      "source": [
        "# For coordinates loss, I was thinking Jaccard index with small radius\n",
        "# for two coordinates to be considered the same.\n",
        "\n",
        "# But if I need to compute distances to nearest neighbor in other set\n",
        "# anyways, might as well include that distance information.\n",
        "\n",
        "# Also remember that real_centroids coords are actually (y,x)\n",
        "# while all_centroids coords are (x,y)!\n",
        "\n",
        "real_coords = real_centroids[0]\n",
        "pred_coords = all_centroids[0]\n",
        "\n",
        "real_coords_reordered = []\n",
        "for y, x in real_coords:\n",
        "  real_coords_reordered.append((x, y))\n",
        "\n",
        "print(real_coords_reordered)\n",
        "print(pred_coords)\n",
        "\n",
        "# Go with... average distance of predicted centroid to nearest real centroid?\n",
        "min_distances = []\n",
        "for x, y in pred_coords:\n",
        "  pred_coord = np.array((y, x))\n",
        "  distance = min_edist_to_centroid(real_coords, pred_coord)\n",
        "  min_distances.append(distance)"
      ],
      "execution_count": null,
      "outputs": [
        {
          "output_type": "stream",
          "text": [
            "[(287, 136), (381, 667), (238, 745), (347, 756), (596, 297), (390, 466), (587, 736), (939, 223), (824, 350), (279, 215), (261, 232)]\n",
            "[(238, 745), (270, 226), (289, 136), (345, 759), (384, 668), (388, 466), (590, 736), (594, 299), (826, 349), (940, 222)]\n"
          ],
          "name": "stdout"
        }
      ]
    },
    {
      "cell_type": "code",
      "metadata": {
        "id": "QYhnVTgi-7ed",
        "colab_type": "code",
        "colab": {}
      },
      "source": [
        "def average_min_distance(real_coords, pred_coords):\n",
        "  min_distances = []\n",
        "  for x, y in pred_coords:\n",
        "    pred_coord = np.array((y, x))\n",
        "    distance = min_edist_to_centroid(real_coords, pred_coord)\n",
        "    min_distances.append(distance)\n",
        "  return np.mean(min_distances)"
      ],
      "execution_count": null,
      "outputs": []
    },
    {
      "cell_type": "code",
      "metadata": {
        "id": "TYtyUDtTjsXT",
        "colab_type": "code",
        "colab": {}
      },
      "source": [
        "centroid_counts_loss_train = []\n",
        "centroid_coords_loss_train = []\n",
        "centroid_counts_train = []\n",
        "\n",
        "centroid_counts_loss_test = []\n",
        "centroid_coords_loss_test = []\n",
        "centroid_counts_test = []\n",
        "\n",
        "for idx in count_ordered_idxs: # these are OLD indices\n",
        "  real_coords = real_centroids[idx]\n",
        "  real_count = centroid_counts[idx]\n",
        "  if real_count != len(real_coords):\n",
        "    print(\"Something is sketchy\")\n",
        "  pred_coords = all_centroids[idx]\n",
        "  pred_count = len(pred_coords)\n",
        "\n",
        "  count_diff = real_count - pred_count # Difference between real and predicted\n",
        "  coords_loss = average_min_distance(real_coords, pred_coords)\n",
        "\n",
        "  if idx in train_indices:\n",
        "    centroid_counts_loss_train.append(count_diff)\n",
        "    centroid_coords_loss_train.append(coords_loss)\n",
        "    centroid_counts_train.append(real_count)\n",
        "  elif idx in test_indices:\n",
        "    centroid_counts_loss_test.append(count_diff)\n",
        "    centroid_coords_loss_test.append(coords_loss)\n",
        "    centroid_counts_test.append(real_count)"
      ],
      "execution_count": null,
      "outputs": []
    },
    {
      "cell_type": "code",
      "metadata": {
        "id": "XYwnzWlG8dJe",
        "colab_type": "code",
        "colab": {
          "base_uri": "https://localhost:8080/",
          "height": 410
        },
        "outputId": "045db069-7316-48e1-9f56-bac6323f4749"
      },
      "source": [
        "plt.figure(figsize=(8,6))\n",
        "plt.plot(centroid_counts_train, centroid_counts_loss_train, 'r.', label='Training data')\n",
        "plt.plot(centroid_counts_test, centroid_counts_loss_test, 'b.', label='Test data')\n",
        "plt.xlabel('True centroid count', fontsize=14)\n",
        "plt.ylabel('True - Predicted centroid count', fontsize=14)\n",
        "plt.title('Centroid count loss vs. number of bacteria per frame', fontsize=16)\n",
        "plt.legend(loc='upper left', fontsize=14)\n",
        "plt.savefig('centroid_count_loss_vs_centroid_count.pdf', bbox_inches='tight')"
      ],
      "execution_count": null,
      "outputs": [
        {
          "output_type": "display_data",
          "data": {
            "image/png": "[encoded data removed]",
            "text/plain": [
              "<Figure size 576x432 with 1 Axes>"
            ]
          },
          "metadata": {
            "tags": [],
            "needs_background": "light"
          }
        }
      ]
    },
    {
      "cell_type": "code",
      "metadata": {
        "id": "zrHC3wDiCzhO",
        "colab_type": "code",
        "colab": {
          "base_uri": "https://localhost:8080/",
          "height": 410
        },
        "outputId": "f46c495f-f6f4-49d6-d79d-35d678f4a834"
      },
      "source": [
        "plt.figure(figsize=(8,6))\n",
        "plt.plot(centroid_counts_train, centroid_coords_loss_train, 'r.', label='Training data')\n",
        "plt.plot(centroid_counts_test, centroid_coords_loss_test, 'b.', label='Test data')\n",
        "plt.xlabel('True centroid count', fontsize=14)\n",
        "plt.ylabel('Average distance of\\npredicted to nearest real centroid', fontsize=14)\n",
        "plt.title('Centroid coordinate loss vs. number of bacteria per frame', fontsize=16)\n",
        "plt.legend(loc='upper left', fontsize=14)\n",
        "plt.savefig('centroid_coord_loss_vs_centroid_count.pdf', bbox_inches='tight')"
      ],
      "execution_count": null,
      "outputs": [
        {
          "output_type": "display_data",
          "data": {
            "image/png": "[encoded data removed]",
            "text/plain": [
              "<Figure size 576x432 with 1 Axes>"
            ]
          },
          "metadata": {
            "tags": [],
            "needs_background": "light"
          }
        }
      ]
    },
    {
      "cell_type": "code",
      "metadata": {
        "id": "sgIbPGg7DiZP",
        "colab_type": "code",
        "colab": {}
      },
      "source": [
        "# One more metric: credit Robert for suggesting generating new heatmaps\n",
        "# based on predicted centroids, and comparing to labels (using SSIM?)\n",
        "\n",
        "pred_centroid_heatmaps = []\n",
        "\n",
        "i = 0\n",
        "for pred_centroids in all_centroids:\n",
        "  pred_centroid_heatmaps.append(centroids_to_pmap((1024,1024), pred_centroids))\n",
        "  i += 1; print(\"Progress: %i\" % i)\n",
        "\n",
        "pred_centroid_heatmaps = np.array(pred_centroid_heatmaps)\n",
        "m,n,o = pred_centroid_heatmaps.shape\n",
        "pred_centroid_heatmaps = np.reshape(pred_centroid_heatmaps, (m,n,o,1))"
      ],
      "execution_count": null,
      "outputs": []
    },
    {
      "cell_type": "code",
      "metadata": {
        "id": "QdBUpM3uh6tA",
        "colab_type": "code",
        "colab": {}
      },
      "source": [
        "pred_centroid_heatmaps_orig = np.copy(pred_centroid_heatmaps)\n",
        "pred_centroid_heatmaps = np.array([np.uint8(hm*255) for hm in pred_centroid_heatmaps])"
      ],
      "execution_count": null,
      "outputs": []
    },
    {
      "cell_type": "code",
      "metadata": {
        "id": "s6b_T7vxj7yv",
        "colab_type": "code",
        "colab": {}
      },
      "source": [
        "pred_centroid_heatmaps = invert_and_scale_heatmaps(pred_centroid_heatmaps)\n",
        "pred_centroid_heatmaps = threshold_heatmaps(pred_centroid_heatmaps, '<', 0.1)\n",
        "pred_centroid_heatmaps = normalize_heatmaps(pred_centroid_heatmaps)"
      ],
      "execution_count": null,
      "outputs": []
    },
    {
      "cell_type": "code",
      "metadata": {
        "id": "-DfVyzFcEbbd",
        "colab_type": "code",
        "colab": {
          "base_uri": "https://localhost:8080/",
          "height": 142
        },
        "outputId": "5ca8753e-35e7-4819-a3f0-d6ba87d64c0a"
      },
      "source": [
        "from skimage.measure import compare_ssim\n",
        "\n",
        "centroid_heatmap_loss_train = []\n",
        "centroid_counts_train = []\n",
        "\n",
        "centroid_heatmap_loss_test = []\n",
        "centroid_counts_test = []\n",
        "\n",
        "i = 0\n",
        "for idx in count_ordered_idxs: # these are OLD indices\n",
        "  real_heatmap = labels[idx,:,:,0]\n",
        "  pred_heatmap = pred_centroid_heatmaps[idx,:,:,0]\n",
        "  real_count = centroid_counts[idx]\n",
        "  ssim = compare_ssim(real_heatmap, pred_heatmap)\n",
        "\n",
        "  if idx in train_indices:\n",
        "    centroid_heatmap_loss_train.append(ssim)\n",
        "    centroid_counts_train.append(real_count)\n",
        "  elif idx in test_indices:\n",
        "    centroid_heatmap_loss_test.append(ssim)\n",
        "    centroid_counts_test.append(real_count)\n",
        "  \n",
        "  i += 1\n",
        "  if i % 50 == 0:\n",
        "    print(\"Progress: %i\" % i)"
      ],
      "execution_count": null,
      "outputs": [
        {
          "output_type": "stream",
          "text": [
            "/usr/local/lib/python3.6/dist-packages/ipykernel_launcher.py:14: UserWarning: DEPRECATED: skimage.measure.compare_ssim has been moved to skimage.metrics.structural_similarity. It will be removed from skimage.measure in version 0.18.\n",
            "  \n"
          ],
          "name": "stderr"
        },
        {
          "output_type": "stream",
          "text": [
            "Progress: 50\n",
            "Progress: 100\n",
            "Progress: 150\n",
            "Progress: 200\n"
          ],
          "name": "stdout"
        }
      ]
    },
    {
      "cell_type": "code",
      "metadata": {
        "id": "3PQYDpMykKWq",
        "colab_type": "code",
        "colab": {
          "base_uri": "https://localhost:8080/",
          "height": 410
        },
        "outputId": "b5bfd3ab-1afe-443f-bce8-f4e88a5dd505"
      },
      "source": [
        "plt.figure(figsize=(8,6))\n",
        "plt.plot(centroid_counts_train, centroid_heatmap_loss_train, 'r.', label='Training data')\n",
        "plt.plot(centroid_counts_test, centroid_heatmap_loss_test, 'b.', label='Test data')\n",
        "plt.xlabel('True centroid count', fontsize=14)\n",
        "plt.ylabel('SSIM between real and\\npredicted centroid heatmaps', fontsize=14)\n",
        "plt.title('Centroid heatmap loss vs. number of bacteria per frame', fontsize=16)\n",
        "plt.legend(loc='upper right', fontsize=14)\n",
        "plt.savefig('centroid_heatmap_loss_vs_centroid_count.pdf', bbox_inches='tight')"
      ],
      "execution_count": null,
      "outputs": [
        {
          "output_type": "display_data",
          "data": {
            "image/png": "[encoded data removed]",
            "text/plain": [
              "<Figure size 576x432 with 1 Axes>"
            ]
          },
          "metadata": {
            "tags": [],
            "needs_background": "light"
          }
        }
      ]
    }
  ]
}